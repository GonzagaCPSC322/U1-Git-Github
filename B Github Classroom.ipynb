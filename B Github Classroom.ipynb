{
 "cells": [
  {
   "cell_type": "markdown",
   "metadata": {},
   "source": [
    "Note: due to a recent Github issue rendering Jupyter Notebooks, images in Notebooks are not appearing. Until it is fixed, I recommend viewing this Notebook with nbviewer: https://nbviewer.org/github/GonzagaCPSC322/U1-Git-Github/blob/master/B%20Github%20Classroom.ipynb?flush_cache=true\n",
    "\n",
    "# [CPSC 322](https://github.com/GonzagaCPSC322) Data Science Algorithms\n",
    "[Gonzaga University](https://www.gonzaga.edu/)\n",
    "\n",
    "[Gina Sprint](http://cs.gonzaga.edu/faculty/sprint/)\n",
    "# Github Classroom\n",
    "\n",
    "What are our learning objectives for this lesson?\n",
    "* Interface with Github Classroom\n",
    "\n",
    "Content used in this lesson is based upon information in the following sources:\n",
    "* [Github Classroom](https://classroom.github.com/)"
   ]
  },
  {
   "cell_type": "markdown",
   "metadata": {},
   "source": [
    "## GitHub Classroom\n",
    "GitHub has a site called GitHub Classroom that we will use for programming assignment turn in (no need for uploading zip files to Blackboard :)). GitHub Classroom automates repository creation and access control for assignments in courses like ours. The repositories can be public, private to the students in the class, or private to everyone except the instructor. Here is our CPSC 322 Github organization: https://github.com/GonzagaCPSC322\n",
    "\n",
    "## Practice Problem\n",
    "For practice, I have made a \"HelloWorldClassroom\" assignment. Here is the invitation link to this assignment: https://classroom.github.com/a/ir-AgNue Open the above link and follow the instructions. Practice working with GitHub classroom by pushing a simple hello world Python file to HelloWorldClassroom.\n",
    "\n",
    "Note: the current setting for HelloWordlClassroom assignment is private, meaning only you and the owners of the classroom (instructor and grader) are able to see your repository.\n",
    "\n",
    "## Summary of Git, Github, and Github Classroom\n",
    "There are many details behind Git that can be overwhelming to try and learn all at once. For this class, I only want to introduce you to the basics. When you work on a larger scale project, such as your senior design project or one for an internship at a software company, you will gain more practical exposure to Git (or other version control systems like Subversion or Perforce). A great resource for learning more about Git is the freely available Pro Git book: https://git-scm.com/book/en/v2 \n",
    "\n",
    "We will use GitHub Classroom for programming assignments in this class. The main Git/GitHub functionality you should be familiar with for the project includes the following:\n",
    "1. Staging, committing, and pushing local changes via the Git command line interface\n",
    "1. Managing repositories on GitHub\n",
    "1. Turning assignments in via GitHub Classroom\n",
    "\n",
    "I definitely recommend printing a Git cheat sheet and keeping it posted near your computer. Here is an example cheat sheet that I have! https://education.github.com/git-cheat-sheet-education.pdf \n",
    "\n",
    "Lastly, GitHub is a great way to showcase your undergraduate projects (both in class projects and out of class side projects). Potential employers may look at your GitHub account to see your coding style and coding interests."
   ]
  }
 ],
 "metadata": {
  "anaconda-cloud": {},
  "kernelspec": {
   "display_name": "Python 3",
   "language": "python",
   "name": "python3"
  },
  "language_info": {
   "codemirror_mode": {
    "name": "ipython",
    "version": 3
   },
   "file_extension": ".py",
   "mimetype": "text/x-python",
   "name": "python",
   "nbconvert_exporter": "python",
   "pygments_lexer": "ipython3",
   "version": "3.8.5"
  }
 },
 "nbformat": 4,
 "nbformat_minor": 4
}
